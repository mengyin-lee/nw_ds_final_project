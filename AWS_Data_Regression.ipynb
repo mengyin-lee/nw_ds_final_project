{
 "cells": [
  {
   "cell_type": "code",
   "execution_count": 80,
   "metadata": {},
   "outputs": [],
   "source": [
    "%matplotlib inline\n",
    "import config\n",
    "import psycopg2\n",
    "import pandas as pd\n",
    "import numpy as np\n",
    "import matplotlib.pyplot as plt\n",
    "import seaborn as sns"
   ]
  },
  {
   "cell_type": "code",
   "execution_count": 106,
   "metadata": {},
   "outputs": [],
   "source": [
    "conn = psycopg2.connect(\n",
    "    host=config.HOST,\n",
    "    database=config.DATABASE,\n",
    "    user=config.USER,\n",
    "    password=config.PASSWORD,\n",
    "    port=config.PORT)"
   ]
  },
  {
   "cell_type": "code",
   "execution_count": 107,
   "metadata": {},
   "outputs": [
    {
     "name": "stdout",
     "output_type": "stream",
     "text": [
      "PostgreSQL database version:\n"
     ]
    }
   ],
   "source": [
    "cur = conn.cursor()\n",
    "\n",
    "print('PostgreSQL database version:')\n",
    "cur.execute('SELECT version()')"
   ]
  },
  {
   "cell_type": "code",
   "execution_count": 108,
   "metadata": {},
   "outputs": [
    {
     "name": "stdout",
     "output_type": "stream",
     "text": [
      "('PostgreSQL 12.5 on x86_64-pc-linux-gnu, compiled by gcc (GCC) 4.8.3 20140911 (Red Hat 4.8.3-9), 64-bit',)\n"
     ]
    }
   ],
   "source": [
    "db_version = cur.fetchone()\n",
    "print(db_version)"
   ]
  },
  {
   "cell_type": "code",
   "execution_count": 109,
   "metadata": {},
   "outputs": [],
   "source": [
    "sqlQuery = 'SELECT d.ranking, d.score, d.gdppercapita, d.socialsupport, d.healthylifeexpectancy, d.freedom, d.generosity, d.perceptionofcorruption, cpi.cpi_score, cpi.rank FROM data_2019 as d INNER JOIN \"countryCPI\" as cpi ON d.countryorregion = cpi.country WHERE cpi.year = 2019'"
   ]
  },
  {
   "cell_type": "code",
   "execution_count": 110,
   "metadata": {},
   "outputs": [],
   "source": [
    "cur.execute(sqlQuery)"
   ]
  },
  {
   "cell_type": "code",
   "execution_count": 111,
   "metadata": {},
   "outputs": [],
   "source": [
    "data = cur.fetchall()"
   ]
  },
  {
   "cell_type": "code",
   "execution_count": 112,
   "metadata": {},
   "outputs": [],
   "source": [
    "framedData = pd.DataFrame(np.array(data))"
   ]
  },
  {
   "cell_type": "code",
   "execution_count": 113,
   "metadata": {},
   "outputs": [],
   "source": [
    "conn.close()"
   ]
  },
  {
   "cell_type": "code",
   "execution_count": 115,
   "metadata": {},
   "outputs": [
    {
     "name": "stdout",
     "output_type": "stream",
     "text": [
      "         0      1      2      3      4      5      6      7     8      9\n",
      "0      2.0  7.600  1.383  1.573  0.996  0.592  0.252  0.410  87.0    1.0\n",
      "1      8.0  7.307  1.303  1.557  1.026  0.585  0.330  0.380  87.0    1.0\n",
      "2      1.0  7.769  1.340  1.587  0.986  0.596  0.153  0.393  86.0    3.0\n",
      "3     34.0  6.262  1.572  1.463  1.141  0.556  0.271  0.453  85.0    4.0\n",
      "4      7.0  7.343  1.387  1.487  1.009  0.574  0.267  0.373  85.0    4.0\n",
      "..     ...    ...    ...    ...    ...    ...    ...    ...   ...    ...\n",
      "142  108.0  4.707  0.960  1.427  0.805  0.154  0.064  0.047  16.0  173.0\n",
      "143  151.0  3.380  0.287  1.163  0.463  0.143  0.108  0.077  15.0  177.0\n",
      "144  149.0  3.462  0.619  0.378  0.440  0.013  0.331  0.141  13.0  178.0\n",
      "145  112.0  4.668  0.000  0.698  0.268  0.559  0.243  0.270   9.0  180.0\n",
      "146  156.0  2.853  0.306  0.575  0.295  0.010  0.202  0.091  12.0  179.0\n",
      "\n",
      "[147 rows x 10 columns]\n"
     ]
    }
   ],
   "source": [
    "print(framedData)"
   ]
  },
  {
   "cell_type": "code",
   "execution_count": 116,
   "metadata": {
    "scrolled": true
   },
   "outputs": [],
   "source": [
    "framedData.columns = ['Happiness Ranking', 'Happiness Score', \"GDP per Capita\", \"Social Support\", \"Healthy Life Expectancy\", \"Freedom\", \"Generosity\", 'Corruption Perception Score', 'CPI Score', 'CPI Ranking']"
   ]
  },
  {
   "cell_type": "code",
   "execution_count": 117,
   "metadata": {},
   "outputs": [
    {
     "data": {
      "text/html": [
       "<div>\n",
       "<style scoped>\n",
       "    .dataframe tbody tr th:only-of-type {\n",
       "        vertical-align: middle;\n",
       "    }\n",
       "\n",
       "    .dataframe tbody tr th {\n",
       "        vertical-align: top;\n",
       "    }\n",
       "\n",
       "    .dataframe thead th {\n",
       "        text-align: right;\n",
       "    }\n",
       "</style>\n",
       "<table border=\"1\" class=\"dataframe\">\n",
       "  <thead>\n",
       "    <tr style=\"text-align: right;\">\n",
       "      <th></th>\n",
       "      <th>0</th>\n",
       "      <th>1</th>\n",
       "      <th>2</th>\n",
       "      <th>3</th>\n",
       "      <th>4</th>\n",
       "    </tr>\n",
       "  </thead>\n",
       "  <tbody>\n",
       "    <tr>\n",
       "      <th>Happiness Ranking</th>\n",
       "      <td>2.000</td>\n",
       "      <td>8.000</td>\n",
       "      <td>1.000</td>\n",
       "      <td>34.000</td>\n",
       "      <td>7.000</td>\n",
       "    </tr>\n",
       "    <tr>\n",
       "      <th>Happiness Score</th>\n",
       "      <td>7.600</td>\n",
       "      <td>7.307</td>\n",
       "      <td>7.769</td>\n",
       "      <td>6.262</td>\n",
       "      <td>7.343</td>\n",
       "    </tr>\n",
       "    <tr>\n",
       "      <th>GDP per Capita</th>\n",
       "      <td>1.383</td>\n",
       "      <td>1.303</td>\n",
       "      <td>1.340</td>\n",
       "      <td>1.572</td>\n",
       "      <td>1.387</td>\n",
       "    </tr>\n",
       "    <tr>\n",
       "      <th>Social Support</th>\n",
       "      <td>1.573</td>\n",
       "      <td>1.557</td>\n",
       "      <td>1.587</td>\n",
       "      <td>1.463</td>\n",
       "      <td>1.487</td>\n",
       "    </tr>\n",
       "    <tr>\n",
       "      <th>Healthy Life Expectancy</th>\n",
       "      <td>0.996</td>\n",
       "      <td>1.026</td>\n",
       "      <td>0.986</td>\n",
       "      <td>1.141</td>\n",
       "      <td>1.009</td>\n",
       "    </tr>\n",
       "    <tr>\n",
       "      <th>Freedom</th>\n",
       "      <td>0.592</td>\n",
       "      <td>0.585</td>\n",
       "      <td>0.596</td>\n",
       "      <td>0.556</td>\n",
       "      <td>0.574</td>\n",
       "    </tr>\n",
       "    <tr>\n",
       "      <th>Generosity</th>\n",
       "      <td>0.252</td>\n",
       "      <td>0.330</td>\n",
       "      <td>0.153</td>\n",
       "      <td>0.271</td>\n",
       "      <td>0.267</td>\n",
       "    </tr>\n",
       "    <tr>\n",
       "      <th>Corruption Perception Score</th>\n",
       "      <td>0.410</td>\n",
       "      <td>0.380</td>\n",
       "      <td>0.393</td>\n",
       "      <td>0.453</td>\n",
       "      <td>0.373</td>\n",
       "    </tr>\n",
       "    <tr>\n",
       "      <th>CPI Score</th>\n",
       "      <td>87.000</td>\n",
       "      <td>87.000</td>\n",
       "      <td>86.000</td>\n",
       "      <td>85.000</td>\n",
       "      <td>85.000</td>\n",
       "    </tr>\n",
       "    <tr>\n",
       "      <th>CPI Ranking</th>\n",
       "      <td>1.000</td>\n",
       "      <td>1.000</td>\n",
       "      <td>3.000</td>\n",
       "      <td>4.000</td>\n",
       "      <td>4.000</td>\n",
       "    </tr>\n",
       "  </tbody>\n",
       "</table>\n",
       "</div>"
      ],
      "text/plain": [
       "                                  0       1       2       3       4\n",
       "Happiness Ranking             2.000   8.000   1.000  34.000   7.000\n",
       "Happiness Score               7.600   7.307   7.769   6.262   7.343\n",
       "GDP per Capita                1.383   1.303   1.340   1.572   1.387\n",
       "Social Support                1.573   1.557   1.587   1.463   1.487\n",
       "Healthy Life Expectancy       0.996   1.026   0.986   1.141   1.009\n",
       "Freedom                       0.592   0.585   0.596   0.556   0.574\n",
       "Generosity                    0.252   0.330   0.153   0.271   0.267\n",
       "Corruption Perception Score   0.410   0.380   0.393   0.453   0.373\n",
       "CPI Score                    87.000  87.000  86.000  85.000  85.000\n",
       "CPI Ranking                   1.000   1.000   3.000   4.000   4.000"
      ]
     },
     "execution_count": 117,
     "metadata": {},
     "output_type": "execute_result"
    }
   ],
   "source": [
    "framedData.head().T"
   ]
  },
  {
   "cell_type": "code",
   "execution_count": 118,
   "metadata": {},
   "outputs": [
    {
     "data": {
      "text/plain": [
       "Happiness Ranking              float64\n",
       "Happiness Score                float64\n",
       "GDP per Capita                 float64\n",
       "Social Support                 float64\n",
       "Healthy Life Expectancy        float64\n",
       "Freedom                        float64\n",
       "Generosity                     float64\n",
       "Corruption Perception Score    float64\n",
       "CPI Score                      float64\n",
       "CPI Ranking                    float64\n",
       "dtype: object"
      ]
     },
     "execution_count": 118,
     "metadata": {},
     "output_type": "execute_result"
    }
   ],
   "source": [
    "framedData.dtypes"
   ]
  },
  {
   "cell_type": "code",
   "execution_count": 121,
   "metadata": {},
   "outputs": [],
   "source": [
    "framedData = framedData.astype(np.float32)"
   ]
  },
  {
   "cell_type": "code",
   "execution_count": 122,
   "metadata": {},
   "outputs": [
    {
     "data": {
      "image/png": "[encoded data removed]",
      "text/plain": [
       "<Figure size 432x288 with 1 Axes>"
      ]
     },
     "metadata": {
      "needs_background": "light"
     },
     "output_type": "display_data"
    }
   ],
   "source": [
    "plt.scatter(framedData['Corruption Perception Score'], framedData['Happiness Score'], color='orange')\n",
    "plt.title('Happiness Score Vs Corruption Perception', fontsize=14)\n",
    "plt.xlabel('Corruption Perception', fontsize=14)\n",
    "plt.ylabel('Happiness Score', fontsize=14)\n",
    "plt.grid(True)\n",
    "\n",
    "plt.locator_params(axis=\"x\", nbins=6)\n",
    "plt.locator_params(axis=\"y\", nbins=6)\n",
    "\n",
    "plt.show()"
   ]
  },
  {
   "cell_type": "code",
   "execution_count": 123,
   "metadata": {},
   "outputs": [
    {
     "data": {
      "image/png": "[encoded data removed]",
      "text/plain": [
       "<Figure size 432x288 with 1 Axes>"
      ]
     },
     "metadata": {
      "needs_background": "light"
     },
     "output_type": "display_data"
    }
   ],
   "source": [
    "plt.scatter(framedData['CPI Score'], framedData['Happiness Score'], color='red')\n",
    "plt.title('Happiness Score Vs CPI Score', fontsize=14)\n",
    "plt.xlabel('CPI Score', fontsize=14)\n",
    "plt.ylabel('Happiness Score', fontsize=14)\n",
    "plt.grid(True)\n",
    "plt.show()"
   ]
  },
  {
   "cell_type": "code",
   "execution_count": 126,
   "metadata": {},
   "outputs": [
    {
     "data": {
      "image/png": "[encoded data removed]",
      "text/plain": [
       "<Figure size 432x360 with 2 Axes>"
      ]
     },
     "metadata": {
      "needs_background": "light"
     },
     "output_type": "display_data"
    }
   ],
   "source": [
    "#list of column names to keep\n",
    "col_names = framedData.columns\n",
    "\n",
    "df = framedData[col_names]\n",
    "\n",
    "#filtering the dataframe to include just the IV's (features) and another with just the DV's (target)\n",
    "\n",
    "features = df.loc[:,df.columns != 'Happiness Score']\n",
    "targets = df.loc[:,df.columns == 'Happiness Score']\n",
    "\n",
    "#creating pairwise correlation of columns using Pearson's R,\n",
    "corr = features.corr(method='pearson') \n",
    "\n",
    "#plotting the correlation coefficients on a seasborn heatmap matrix\n",
    "fig, ax = plt.subplots(figsize=(6,5))\n",
    "sns.heatmap(corr, annot=True, xticklabels=corr.columns, \n",
    "            yticklabels=corr.columns, ax=ax, linewidths=.5, \n",
    "            vmin = -1, vmax=1, center=0)\n",
    "\n",
    "plt.title('Correlation HeatMap')\n",
    "plt.show()"
   ]
  },
  {
   "cell_type": "code",
   "execution_count": 127,
   "metadata": {},
   "outputs": [
    {
     "name": "stdout",
     "output_type": "stream",
     "text": [
      "(147, 8) (147,)\n"
     ]
    }
   ],
   "source": [
    "X = framedData.drop(columns=['CPI Score', 'CPI Ranking'], axis=1)\n",
    "y = framedData[\"CPI Score\"]\n",
    "print(X.shape, y.shape)"
   ]
  },
  {
   "cell_type": "code",
   "execution_count": 128,
   "metadata": {},
   "outputs": [],
   "source": [
    "# Use train_test_split to create training and testing data\n",
    "\n",
    "### BEGIN SOLUTION\n",
    "from sklearn.model_selection import train_test_split\n",
    "\n",
    "X_train, X_test, y_train, y_test = train_test_split(X, y, random_state=42)\n",
    "\n",
    "### END SOLUTION"
   ]
  },
  {
   "cell_type": "code",
   "execution_count": 129,
   "metadata": {},
   "outputs": [
    {
     "name": "stdout",
     "output_type": "stream",
     "text": [
      "R2 Score: 0.7182221643600344\n"
     ]
    }
   ],
   "source": [
    "from sklearn.linear_model import LinearRegression\n",
    "model = LinearRegression()\n",
    "\n",
    "# Fitting our model with all of our features in X\n",
    "model.fit(X_train, y_train)\n",
    "\n",
    "score = model.score(X_train, y_train)\n",
    "print(f\"R2 Score: {score}\")"
   ]
  },
  {
   "cell_type": "code",
   "execution_count": 130,
   "metadata": {},
   "outputs": [],
   "source": [
    "# Create the model using LinearRegression\n",
    "\n",
    "### BEGIN SOLUTION\n",
    "from sklearn.linear_model import LinearRegression\n",
    "model = LinearRegression()\n",
    "### END SOLUTION"
   ]
  },
  {
   "cell_type": "code",
   "execution_count": 131,
   "metadata": {},
   "outputs": [
    {
     "name": "stdout",
     "output_type": "stream",
     "text": [
      "Training R2 Score: 0.7182221643600344\n",
      "Testing R2 Score: 0.6011205456278965\n"
     ]
    }
   ],
   "source": [
    "# Fit the model to the training data and calculate the scores for the training and testing data\n",
    "\n",
    "### BEGIN SOLUTION\n",
    "model.fit(X_train, y_train)\n",
    "training_score = model.score(X_train, y_train)\n",
    "testing_score = model.score(X_test, y_test)\n",
    "\n",
    "### END SOLUTION \n",
    "\n",
    "print(f\"Training R2 Score: {training_score}\")\n",
    "print(f\"Testing R2 Score: {testing_score}\")"
   ]
  },
  {
   "cell_type": "code",
   "execution_count": 132,
   "metadata": {},
   "outputs": [
    {
     "data": {
      "text/plain": [
       "Text(0.5, 1.0, 'Residual Plot')"
      ]
     },
     "execution_count": 132,
     "metadata": {},
     "output_type": "execute_result"
    },
    {
     "data": {
      "image/png": "[encoded data removed]",
      "text/plain": [
       "<Figure size 432x288 with 1 Axes>"
      ]
     },
     "metadata": {
      "needs_background": "light"
     },
     "output_type": "display_data"
    }
   ],
   "source": [
    "# Plot the Residuals for the Training and Testing data\n",
    "\n",
    "### BEGIN SOLUTION\n",
    "plt.scatter(model.predict(X_train), model.predict(X_train) - y_train, c=\"blue\", label=\"Training Data\")\n",
    "plt.scatter(model.predict(X_test), model.predict(X_test) - y_test, c=\"orange\", label=\"Testing Data\")\n",
    "plt.legend()\n",
    "plt.hlines(y=0, xmin=y.min(), xmax=y.max())\n",
    "plt.title(\"Residual Plot\")\n",
    "### END SOLUTION"
   ]
  },
  {
   "cell_type": "code",
   "execution_count": 133,
   "metadata": {},
   "outputs": [
    {
     "name": "stdout",
     "output_type": "stream",
     "text": [
      "0      87.0\n",
      "1      87.0\n",
      "2      86.0\n",
      "3      85.0\n",
      "4      85.0\n",
      "       ... \n",
      "142    16.0\n",
      "143    15.0\n",
      "144    13.0\n",
      "145     9.0\n",
      "146    12.0\n",
      "Name: CPI Score, Length: 147, dtype: float32\n"
     ]
    }
   ],
   "source": [
    "print(y)"
   ]
  },
  {
   "cell_type": "code",
   "execution_count": 134,
   "metadata": {},
   "outputs": [
    {
     "name": "stdout",
     "output_type": "stream",
     "text": [
      "     Happiness Ranking  Happiness Score  GDP per Capita  Social Support  \\\n",
      "145              112.0            4.668           0.000           0.698   \n",
      "42                57.0            5.888           1.120           1.402   \n",
      "16                55.0            5.893           1.237           1.528   \n",
      "10                11.0            7.228           1.372           1.548   \n",
      "115              141.0            3.975           0.073           0.922   \n",
      "..                 ...              ...             ...             ...   \n",
      "71                43.0            6.125           0.985           1.410   \n",
      "106              104.0            4.799           1.057           1.183   \n",
      "14                10.0            7.246           1.376           1.475   \n",
      "92                71.0            5.529           0.685           1.328   \n",
      "102               86.0            5.261           0.551           1.438   \n",
      "\n",
      "     Healthy Life Expectancy  Freedom  Generosity  Corruption Perception Score  \n",
      "145                    0.268    0.559       0.243                        0.270  \n",
      "42                     0.798    0.498       0.215                        0.060  \n",
      "16                     0.874    0.495       0.103                        0.161  \n",
      "10                     1.036    0.557       0.332                        0.290  \n",
      "115                    0.443    0.370       0.233                        0.033  \n",
      "..                       ...      ...         ...                          ...  \n",
      "71                     0.841    0.470       0.099                        0.034  \n",
      "106                    0.571    0.295       0.043                        0.055  \n",
      "14                     1.016    0.532       0.244                        0.226  \n",
      "92                     0.739    0.245       0.181                        0.000  \n",
      "102                    0.723    0.508       0.300                        0.023  \n",
      "\n",
      "[110 rows x 8 columns]\n"
     ]
    }
   ],
   "source": [
    "print(X_train)"
   ]
  },
  {
   "cell_type": "code",
   "execution_count": 135,
   "metadata": {},
   "outputs": [
    {
     "name": "stdout",
     "output_type": "stream",
     "text": [
      "145     9.0\n",
      "42     52.0\n",
      "16     74.0\n",
      "10     77.0\n",
      "115    28.0\n",
      "       ... \n",
      "71     37.0\n",
      "106    31.0\n",
      "14     77.0\n",
      "92     32.0\n",
      "102    30.0\n",
      "Name: CPI Score, Length: 110, dtype: float32\n"
     ]
    }
   ],
   "source": [
    "print(y_train)"
   ]
  },
  {
   "cell_type": "code",
   "execution_count": 136,
   "metadata": {},
   "outputs": [],
   "source": [
    "import sklearn.metrics as metrics\n",
    "def regression_results(y_true, y_pred):\n",
    "    # Regression metrics\n",
    "    explained_variance=metrics.explained_variance_score(y_true, y_pred)\n",
    "    mean_absolute_error=metrics.mean_absolute_error(y_true, y_pred) \n",
    "    mse=metrics.mean_squared_error(y_true, y_pred) \n",
    "    mean_squared_log_error=metrics.mean_squared_log_error(y_true, y_pred)\n",
    "    median_absolute_error=metrics.median_absolute_error(y_true, y_pred)\n",
    "    r2=metrics.r2_score(y_true, y_pred)\n",
    "    print('explained_variance: ', round(explained_variance,4))    \n",
    "    print('mean_squared_log_error: ', round(mean_squared_log_error,4))\n",
    "    print('r2: ', round(r2,4))\n",
    "    print('MAE: ', round(mean_absolute_error,4))\n",
    "    print('MSE: ', round(mse,4))\n",
    "    print('RMSE: ', round(np.sqrt(mse),4))"
   ]
  },
  {
   "cell_type": "code",
   "execution_count": 146,
   "metadata": {},
   "outputs": [
    {
     "name": "stdout",
     "output_type": "stream",
     "text": [
      "0.7269022263662934\n",
      "explained_variance:  0.7351\n",
      "mean_squared_log_error:  0.0782\n",
      "r2:  0.7269\n",
      "MAE:  7.9368\n",
      "MSE:  108.1762\n",
      "RMSE:  10.4008\n"
     ]
    }
   ],
   "source": [
    "# fit a logistic regression on the training dataset\n",
    "from sklearn.linear_model import LogisticRegression\n",
    "from sklearn.datasets import make_blobs\n",
    "from sklearn.metrics import accuracy_score\n",
    "from sklearn.linear_model import BayesianRidge\n",
    "from sklearn.svm import SVR\n",
    "from sklearn.ensemble import GradientBoostingRegressor\n",
    "\n",
    "# create the inputs and outputs\n",
    "# X, y = make_blobs(n_samples=1000, centers=2, n_features=2, random_state=2)\n",
    "\n",
    "# print(X_train, y_train)\n",
    "\n",
    "# y=y.astype(np.int)\n",
    "\n",
    "# define model\n",
    "model = GradientBoostingRegressor(learning_rate=0.02, n_estimators=10_000)\n",
    "# fit model\n",
    "model.fit(X_train, y_train)\n",
    "\n",
    "yhat = model.score(X_test, y_test)\n",
    "\n",
    "yPredict = model.predict(X_test)\n",
    "\n",
    "# evaluate predictions\n",
    "#acc = accuracy_score(y, yhat)\n",
    "#print(acc)\n",
    "\n",
    "print(yhat)\n",
    "\n",
    "regression_results(y_test, yPredict)"
   ]
  },
  {
   "cell_type": "code",
   "execution_count": 40,
   "metadata": {},
   "outputs": [],
   "source": [
    "??BayesianRidge"
   ]
  }
 ],
 "metadata": {
  "kernelspec": {
   "display_name": "Python 3",
   "language": "python",
   "name": "python3"
  },
  "language_info": {
   "codemirror_mode": {
    "name": "ipython",
    "version": 3
   },
   "file_extension": ".py",
   "mimetype": "text/x-python",
   "name": "python",
   "nbconvert_exporter": "python",
   "pygments_lexer": "ipython3",
   "version": "3.6.5"
  }
 },
 "nbformat": 4,
 "nbformat_minor": 4
}
